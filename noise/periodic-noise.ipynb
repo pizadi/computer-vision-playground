{
 "cells": [
  {
   "cell_type": "markdown",
   "id": "1b5283ae-baf1-4808-8a7c-ef9a9296613f",
   "metadata": {},
   "source": [
    "# Periodic Noise\n",
    "In this notebook, we will go through some types of periodic noise, and its representation in the frequency domain."
   ]
  },
  {
   "cell_type": "markdown",
   "id": "a7031c2e-d9c3-4e56-8b47-956fab3b23fd",
   "metadata": {},
   "source": [
    "## Section 0. Preparing the Notebook\n",
    "We start by importing the necessary libraries."
   ]
  },
  {
   "cell_type": "code",
   "execution_count": null,
   "id": "9e9818bd-8ed7-4d5e-9c29-91e13263c808",
   "metadata": {},
   "outputs": [],
   "source": [
    "# importing necessary packages\n",
    "import numpy as np\n",
    "from numpy import random\n",
    "import cv2 as cv\n",
    "from matplotlib import pyplot as plt\n",
    "from solutions import *\n",
    "from utils import *"
   ]
  },
  {
   "cell_type": "code",
   "execution_count": null,
   "id": "294c8cde-8654-4b22-bd6d-2d925b9c9a2d",
   "metadata": {},
   "outputs": [],
   "source": [
    "# Setting PyPlot's color map\n",
    "plt.set_cmap('Greys_r')"
   ]
  },
  {
   "cell_type": "markdown",
   "id": "daf6b63a-7199-4820-bf1f-62a4e2c887c0",
   "metadata": {},
   "source": [
    "## Section 1. Periodic Noise in the Fourier Transform\n",
    "The simplest form of periodic Noise is a simple sinusoidal pattern on the image. We create such a pattern from a Fourier transform."
   ]
  },
  {
   "cell_type": "code",
   "execution_count": null,
   "id": "39256433-d8ab-4a5c-a206-216fc4808832",
   "metadata": {},
   "outputs": [],
   "source": [
    "# Creating an empty spectrum\n",
    "h, w = 64, 64\n",
    "spectrum = np.zeros((h, w), dtype=np.complex128)\n",
    "baseline = h*w\n",
    "spectrum[0, 0] = baseline * 0.5\n",
    "\n",
    "# Adding a sinusoid\n",
    "u = -.1 * np.pi\n",
    "v = .1 * np.pi\n",
    "phase = 0.5 * np.pi\n",
    "intensity = 0.25\n",
    "\n",
    "u_element = int((u % (np.pi * 2)) / np.pi / 2 * h)\n",
    "v_element = int((v % (np.pi * 2)) / np.pi / 2 * w)\n",
    "\n",
    "u_conj_element = (- u_element) % h\n",
    "v_conj_element = (- v_element) % w\n",
    "\n",
    "spectrum[u_element, v_element] = baseline * intensity * np.exp(complex(0, phase))\n",
    "spectrum[u_conj_element, v_conj_element] = baseline * intensity * np.exp(complex(0, -phase))\n",
    "\n",
    "# Generating the image from the spectrum\n",
    "spectrum_ift = np.real(np.fft.ifft2(spectrum))\n",
    "\n",
    "\n",
    "# Showing the results\n",
    "_ = plt.figure(figsize=(14, 7))\n",
    "_ = plt.subplot(1, 2, 1), plt.imshow(spectrum_ift, vmin=0, vmax=1), plt.axis('off'), plt.title('Constructed Image')\n",
    "_ = plt.subplot(1, 2, 2), plt.imshow(np.abs(np.fft.fftshift(spectrum))), plt.axis('off'), plt.title('Spectrum')"
   ]
  },
  {
   "cell_type": "markdown",
   "id": "f8420581-fd3e-4e34-87d2-6a92527959b5",
   "metadata": {},
   "source": [
    "As you can see, such patterns will cause a pair of intense dots to appear in the spectrum of the image. Below, we see a representation of such noise in an actual image. Note that since the values for higher frequencies are generally much lower than the *zero* frequency. i.e. the average intensity of the pixels, we apply a gamma correction to the spectrum."
   ]
  },
  {
   "cell_type": "code",
   "execution_count": null,
   "id": "8caa016f-5742-4c76-a885-675dcc69e980",
   "metadata": {},
   "outputs": [],
   "source": [
    "# Reading the image and generating the spectrum\n",
    "image = np.float64(cv.imread('data/goose.jpg', cv.IMREAD_GRAYSCALE) / 255)\n",
    "image_f = np.fft.fftshift(np.fft.fft2(image))\n",
    "\n",
    "# Showing the results\n",
    "gamma_correction = 0.2\n",
    "_ = plt.figure(figsize=(14, 7))\n",
    "_ = plt.subplot(1, 2, 1), plt.imshow(image, vmin=0, vmax=1), plt.axis('off'), plt.title('Constructed Image')\n",
    "_ = plt.subplot(1, 2, 2), plt.imshow(np.abs(image_f)**gamma_correction), plt.axis('off'), plt.title('Spectrum')"
   ]
  },
  {
   "cell_type": "markdown",
   "id": "5e991a1f-d7c0-42b5-8181-4fcab90c3ec4",
   "metadata": {},
   "source": [
    "You can see two pairs of bright points near the center of the spectrum, which belong to the noise patterns visible in the image. Note that despite being dull in relation to the central point, they are much brighter than the surrounding frequencies."
   ]
  },
  {
   "cell_type": "markdown",
   "id": "297381f4-715a-4268-b484-766c602b8be1",
   "metadata": {},
   "source": [
    "## Section 2. Periodic Noise with a Range of Frequencies\n",
    "Periodic noise is not always in the form of a simple sinusoidal pattern. Sometimes this type of noise can be a mix of many different frequencies. Take a look at the sample below."
   ]
  },
  {
   "cell_type": "code",
   "execution_count": null,
   "id": "5fa64898-d9fa-4294-823c-752c35eb0d3c",
   "metadata": {},
   "outputs": [],
   "source": [
    "# Reading the image and generating the spectrum\n",
    "image = np.float64(cv.imread('data/phobos.jpg', cv.IMREAD_GRAYSCALE) / 255)\n",
    "image_f = np.fft.fftshift(np.fft.fft2(image))\n",
    "\n",
    "# Showing the results\n",
    "gamma_correction = 0.2\n",
    "_ = plt.figure(figsize=(14, 7))\n",
    "_ = plt.subplot(1, 2, 1), plt.imshow(image, vmin=0, vmax=1), plt.axis('off'), plt.title('Constructed Image')\n",
    "_ = plt.subplot(1, 2, 2), plt.imshow(np.abs(image_f)**gamma_correction), plt.axis('off'), plt.title('Spectrum')"
   ]
  },
  {
   "cell_type": "markdown",
   "id": "177b1797-9cb8-4d47-b14f-7b16c3217cef",
   "metadata": {},
   "source": [
    "You can clearly see a pattern of grainy vertical lines running through the image. These lines, while they do not have a fixed frequency, are a type of periodic noise, and are visible in the spectrum. The two bright lines passing through the center point of the spectrum are caused by these patterns. While you might expect only one line to appear in the spectrum, note that there also exists a grainy pattern in the noise lines, i.e. they are not intact lines.\n",
    "Another important feature of this spectrum is the two slightly brighter points that can be seen on the horizontal line. These two points belong to the dominant frequency of the lines."
   ]
  },
  {
   "cell_type": "markdown",
   "id": "7a4d3359-e113-4779-adfb-78b0d52b9eb5",
   "metadata": {},
   "source": [
    "## Section 3. Moire Patterns\n",
    "Moire patterns, are patterns that result from sampling an image which contains several similar but out of phase periodic patterns. You might have seen visual representations of these patterns when looking at striped patterns. When scanning printed images, such patterns are generated due to differences in the printer and the scanner's sampling pattern. Below is one example of these patterns."
   ]
  },
  {
   "cell_type": "code",
   "execution_count": null,
   "id": "35c388f8-a9ba-4d13-9e6a-40aca2eccfb1",
   "metadata": {},
   "outputs": [],
   "source": [
    "# Reading the image and generating the spectrum\n",
    "image = np.float64(cv.imread('data/moire.png', cv.IMREAD_GRAYSCALE) / 255)\n",
    "image_f = np.fft.fftshift(np.fft.fft2(image))\n",
    "\n",
    "# Showing the results\n",
    "gamma_correction = 0.2\n",
    "_ = plt.figure(figsize=(14, 7))\n",
    "_ = plt.subplot(1, 2, 1), plt.imshow(image, vmin=0, vmax=1), plt.axis('off'), plt.title('Constructed Image')\n",
    "_ = plt.subplot(1, 2, 2), plt.imshow(np.abs(image_f)**gamma_correction), plt.axis('off'), plt.title('Spectrum')"
   ]
  },
  {
   "cell_type": "markdown",
   "id": "c705fe62-2c05-4f2f-9db9-ef87da769fa4",
   "metadata": {},
   "source": [
    "You can see how the Moire pattern, which causes the grainy look of the image, consists of multiple sinusoidal patterns overlayed on top of each other. Moire patterns often correspong to a *starry* pattern in the spectrum."
   ]
  },
  {
   "cell_type": "markdown",
   "id": "a73d09c8-4340-43c1-8820-8bd3f0cf5dba",
   "metadata": {},
   "source": [
    "# Scratchpad\n",
    "You can use this section as a scratchpad, without making a mess in the notebook. :)"
   ]
  },
  {
   "cell_type": "code",
   "execution_count": null,
   "id": "a1391e80-415a-4037-96cc-32f854056a0d",
   "metadata": {},
   "outputs": [],
   "source": []
  }
 ],
 "metadata": {
  "kernelspec": {
   "display_name": "Python 3 (ipykernel)",
   "language": "python",
   "name": "python3"
  },
  "language_info": {
   "codemirror_mode": {
    "name": "ipython",
    "version": 3
   },
   "file_extension": ".py",
   "mimetype": "text/x-python",
   "name": "python",
   "nbconvert_exporter": "python",
   "pygments_lexer": "ipython3",
   "version": "3.11.3"
  }
 },
 "nbformat": 4,
 "nbformat_minor": 5
}
