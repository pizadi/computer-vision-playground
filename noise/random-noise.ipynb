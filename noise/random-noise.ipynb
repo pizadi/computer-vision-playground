{
 "cells": [
  {
   "cell_type": "markdown",
   "id": "a9c4d0fb-7f5c-4132-b4af-b23dc647c929",
   "metadata": {},
   "source": [
    "# Random Noise\n",
    "In this notebook, we will go through some mainstream models of random noise in images, and implement them using NumPy.\n",
    "\n",
    "Note that noise in real world might have many different PDFs (Probability Density Functions), and not always follow the patterns described below. Also, there are types of noise that are not random, and whose modeling is done differently than what is shown here."
   ]
  },
  {
   "cell_type": "markdown",
   "id": "0e3d2be3-52cd-4414-a3a9-2d9935d4e137",
   "metadata": {},
   "source": [
    "## Section 0. Preparing the Notebook\n",
    "We start by importing the necessary libraries and then loading a sample image to work on."
   ]
  },
  {
   "cell_type": "code",
   "execution_count": null,
   "id": "862696df-b401-48ff-b807-99276f79a816",
   "metadata": {},
   "outputs": [],
   "source": [
    "%load_ext autoreload\n",
    "%autoreload 2"
   ]
  },
  {
   "cell_type": "code",
   "execution_count": null,
   "id": "5ac4c56b-7bde-45a7-991a-70f6b73c975c",
   "metadata": {},
   "outputs": [],
   "source": [
    "# importing necessary packages\n",
    "import numpy as np\n",
    "from numpy import random\n",
    "import cv2 as cv\n",
    "from matplotlib import pyplot as plt\n",
    "from solutions import *\n",
    "from utils import *"
   ]
  },
  {
   "cell_type": "code",
   "execution_count": null,
   "id": "abf9957c-813c-4315-82d1-409259dddb61",
   "metadata": {},
   "outputs": [],
   "source": [
    "# loading the sample image and setting the colormap for pyplot\n",
    "image = np.float64(cv.imread('data/Mercury.bmp', cv.IMREAD_GRAYSCALE) / 255)\n",
    "plt.set_cmap('Greys_r')\n",
    "_ = plt.imshow(image), plt.axis('off')"
   ]
  },
  {
   "cell_type": "markdown",
   "id": "3bf81939-058b-40dd-be8c-1bfbaeaaec89",
   "metadata": {},
   "source": [
    "## Section 1. Applying Random Noise to Images\n",
    "The general equation for application of noise to images, is the summation of image $I$ with a random noise function $\\eta$.\n",
    "\n",
    "$ \\hat{I} = I + \\eta $\n",
    "\n",
    "The function $\\eta$ is an array of random values, which conform to a certain PDF. For images, it is a good practice to add a clipping function $C_{a,b}$ to the equation, so that the output values are within the acceptable range $[a \\; b]$ of image intensities.\n",
    "\n",
    "$ C_{a,b}(z) = \\cases{\n",
    "a & \\text{if $ z \\leq a $} \\\\\n",
    "z & \\text{if $ a < z < b $} \\\\\n",
    "b & \\text{if $ b \\leq z $}\n",
    "}\n",
    "$\n",
    "\n",
    "$\n",
    "\\hat{I} = C_{a,b}(I + \\eta)\n",
    "$\n",
    "\n",
    "NumPy has built-in implementations for most of the noise models that we use, so there is no need to manually implement them."
   ]
  },
  {
   "cell_type": "markdown",
   "id": "7e278bd9-0fdc-4b4f-8d55-492d003a936d",
   "metadata": {},
   "source": [
    "### Section 1.1. Salt and Pepper Noise\n",
    "A simple form of noise is the salt and pepper noise, in which a pixel's intensity is either set to the minimum (black) or the maximum (white) amount, with a probability of $p$. Therefore, in an image with salt and pepper noise, about $\\frac{p}{2}$ of pixels are turned into black pixels, and $\\frac{p}{2}$ into white pixels.\n",
    "\n",
    "In the first glance, this looks like a noise that cannot be modeled using our previously described equation. However, when you consider the clipping function, and that setting a pixel intensity to minimum can be described as adding a large negative value to it, a PDF can be described for the salt and pepper noise. This PDF has the value $\\frac{p}{2} \\delta(i)$ at $-1$ and $1$ (in the case that our intensity values are within $[0 \\; 1]$), and the value $(1-p) \\delta{i}$ at 0. You can see a graph of this PDF below."
   ]
  },
  {
   "cell_type": "code",
   "execution_count": null,
   "id": "b7b6b44f-d869-405b-a7ab-c04d7518130b",
   "metadata": {},
   "outputs": [],
   "source": [
    "drawSNPPDF(resolution=100, p=.25)"
   ]
  },
  {
   "cell_type": "markdown",
   "id": "09b7d895-c027-4010-bec8-3e1a7594393c",
   "metadata": {},
   "source": [
    "Now implement a function which applies salt & pepper noise to a sample image. You can either use the probabilistic model described above, or a method of you own choice.\n",
    "**Note:** The expected value for the sum of salt and pepper pixels in your output should be equal."
   ]
  },
  {
   "cell_type": "code",
   "execution_count": null,
   "id": "0bde3c1a-101f-485a-b160-59a0bbac8c76",
   "metadata": {},
   "outputs": [],
   "source": [
    "def addSNPNoise(image : np.ndarray, p : float) -> np.ndarray:\n",
    "    \"\"\"\n",
    "    Parameters:\n",
    "    - image : np.ndarray\n",
    "        An image on which the Salt & Pepper noise will be applied. It should be a\n",
    "        np.ndarray with dtype=float64, and with values within [0 1].\n",
    "    - p : float [0 1]\n",
    "        The p parameter in the S&P noise distribution. Should be in [0 1].\n",
    "    Returns:\n",
    "    - output : np.ndarray\n",
    "        The noisy image, with dtype=np.float64, and values within [0 1].\n",
    "    \"\"\"\n",
    "    # ====== YOUR CODE ======\n",
    "    raise NotImplementedError()\n",
    "\n",
    "# Adding S&P noise\n",
    "p = 0.25\n",
    "image_snp = addSNPNoise(image, p)\n",
    "image_snp_ref = addSNPNoiseRef(image, p)\n",
    "\n",
    "# Showing the results\n",
    "_ = plt.figure(figsize=(18, 6))\n",
    "_ = plt.subplot(1, 3, 1), plt.imshow(image_snp, vmin=0, vmax=1), plt.axis('off'), plt.title('Your Salt & Pepper Noise')\n",
    "_ = plt.subplot(1, 3, 2), plt.imshow(image_snp_ref, vmin=0, vmax=1), plt.axis('off'), plt.title('Reference Salt & Pepper Noise')\n",
    "_ = plt.subplot(1, 3, 3), plt.imshow(image, vmin=0, vmax=1), plt.axis('off'), plt.title('Original image')"
   ]
  },
  {
   "cell_type": "markdown",
   "id": "19fa8fc9-8236-4aca-b139-7f87fd33b7e5",
   "metadata": {},
   "source": [
    "There is also a possibility that an image contains only salt or only pepper noise, i.e. has some pixels flipped to black or white with the probability $p$. Implement functions for these types of noise as well."
   ]
  },
  {
   "cell_type": "code",
   "execution_count": null,
   "id": "91f44190-7229-4b2a-b877-63cffd5ac867",
   "metadata": {},
   "outputs": [],
   "source": [
    "def addSaltNoise(image : np.ndarray, p : float) -> np.ndarray:\n",
    "    \"\"\"\n",
    "    Parameters:\n",
    "    - image : np.ndarray\n",
    "        An image on which the salt noise will be applied. It should be a np.ndarray\n",
    "        with dtype=float64, and with values within [0 1].\n",
    "    - p : float [0 1]\n",
    "        The p parameter in the salt noise distribution. Should be in [0 1].\n",
    "    Returns:\n",
    "    - output : np.ndarray\n",
    "        The noisy image, with dtype=np.float64, and values within [0 1].\n",
    "    \"\"\"\n",
    "    # ====== YOUR CODE ======\n",
    "    raise NotImplementedError()\n",
    "\n",
    "def addPepperNoise(image : np.ndarray, p : float) -> np.ndarray:\n",
    "    \"\"\"\n",
    "    Parameters:\n",
    "    - image : np.ndarray\n",
    "        An image on which the pepper noise will be applied. It should be a\n",
    "        np.ndarray with dtype=float64, and with values within [0 1].\n",
    "    - p : float [0 1]\n",
    "        The p parameter in the pepper noise distribution. Should be in [0 1].\n",
    "    Returns:\n",
    "    - output : np.ndarray\n",
    "        The noisy image, with dtype=np.float64, and values within [0 1].\n",
    "    \"\"\"\n",
    "    # ====== YOUR CODE ======\n",
    "    raise NotImplementedError()\n",
    "\n",
    "# Adding S&P noise\n",
    "p = 0.1\n",
    "image_salt = addSaltNoise(image, p)\n",
    "image_salt_ref = addSaltNoiseRef(image, p)\n",
    "image_pepper = addPepperNoise(image, p)\n",
    "image_pepper_ref = addPepperNoiseRef(image, p)\n",
    "\n",
    "# Showing the results\n",
    "_ = plt.figure(figsize=(15, 15))\n",
    "_ = plt.subplot(2, 2, 1), plt.imshow(image_salt, vmin=0, vmax=1), plt.axis('off'), plt.title('Your Salt Noise')\n",
    "_ = plt.subplot(2, 2, 2), plt.imshow(image_salt_ref, vmin=0, vmax=1), plt.axis('off'), plt.title('Reference Salt Noise')\n",
    "_ = plt.subplot(2, 2, 3), plt.imshow(image_pepper, vmin=0, vmax=1), plt.axis('off'), plt.title('Your Pepper Noise')\n",
    "_ = plt.subplot(2, 2, 4), plt.imshow(image_pepper_ref, vmin=0, vmax=1), plt.axis('off'), plt.title('Reference Pepper Noise')"
   ]
  },
  {
   "cell_type": "markdown",
   "id": "995d7c50-fd7d-4785-be60-d2979ef9d124",
   "metadata": {},
   "source": [
    "### Section 1.2. Uniform Noise\n",
    "Another form of noise is uniform noise, where the noise is a random value in the interval $(a\\;b)$. Depending on the situation, you can assume that this interval is centered on $0$, and therefore the interval can be described as $[-a\\;a]$. The intensity of this type of noise, and the data corruption that it causes, can be described by how close the magnitudes of $a$ and $b$ are to the maximum value for pixel intensity.\n",
    "\n",
    "You can see a representation of the PDF for a uniform noise function below."
   ]
  },
  {
   "cell_type": "code",
   "execution_count": null,
   "id": "7b7a687e-e67c-4d98-a2b7-3df9f5b090f6",
   "metadata": {},
   "outputs": [],
   "source": [
    "drawUniformPDF(resolution=100, a=-.25, b=.25)"
   ]
  },
  {
   "cell_type": "markdown",
   "id": "17c43ef2-370c-40a0-bdb4-112374e780bd",
   "metadata": {},
   "source": [
    "Now implement a uniform noise function. Note that you can use the functions in NumPy's numpy.random module."
   ]
  },
  {
   "cell_type": "code",
   "execution_count": null,
   "id": "e2b16265-18d3-4a10-ae0d-1d287123dfc2",
   "metadata": {},
   "outputs": [],
   "source": [
    "def addUniformNoise(image : np.ndarray, a : float, b : float) -> np.ndarray:\n",
    "    \"\"\"\n",
    "    Parameters:\n",
    "    - image : np.ndarray\n",
    "        An image on which the Uniform noise will be applied. It should be a\n",
    "        np.ndarray with dtype=float64, and with values within [0 1].\n",
    "    - a : float [-1 1]\n",
    "        The a parameter in the Uniform noise distribution. Should be in [-1 1].\n",
    "    - b : float [-1 1]\n",
    "        The b parameter in the Uniform noise distribution. Should be in [-1 1].\n",
    "    Returns:\n",
    "    - output : np.ndarray\n",
    "        The noisy image, with dtype=np.float64, and values within [0 1].\n",
    "    \"\"\"\n",
    "    # ====== YOUR CODE ======\n",
    "    raise NotImplementedError()\n",
    "\n",
    "# Adding Uniform noise\n",
    "a = -.25\n",
    "b = .25\n",
    "image_uniform = addUniformNoise(image, a, b)\n",
    "image_uniform_ref = addUniformNoiseRef(image, a, b)\n",
    "\n",
    "# Showing the results\n",
    "_ = plt.figure(figsize=(18, 6))\n",
    "_ = plt.subplot(1, 3, 1), plt.imshow(image_uniform, vmin=0, vmax=1), plt.axis('off'), plt.title('Your Uniform Noise')\n",
    "_ = plt.subplot(1, 3, 2), plt.imshow(image_uniform_ref, vmin=0, vmax=1), plt.axis('off'), plt.title('Reference Uniform Noise')\n",
    "_ = plt.subplot(1, 3, 3), plt.imshow(image, vmin=0, vmax=1), plt.axis('off'), plt.title('Original image')"
   ]
  },
  {
   "cell_type": "markdown",
   "id": "984b3097-657f-4ea1-b693-880057e743f9",
   "metadata": {},
   "source": [
    "### Section 1.3. Gaussian Noise\n",
    "Gaussian noise is the kind of noise where the noise value PDF is a normal (a.k.a Gaussian) function. Gaussian noise can be a good approximation for the many types of noise, which have a symmetrical distribution. You are most likely already familiar with the normal distribution, however, for very bright or dark pixels, or for large $\\sigma$ values, we might encounter intensity clipping, which would cause the actual PDF to be slightly different from the normal distribution. Implement a Gaussian noise function and see its effects on the sample image.\n",
    "\n",
    "**Note 1:** If you're not familiar with the normal distribution, you can read more [here](en.wikipedia.org/wiki/Normal_distribution). Also you should probably learn some more about probability and statistics to better understand this notebook.\n",
    "\n",
    "**Note 2:** A good way of translating the $\\sigma$ into noise intensity, is by considering that about $95\\%$ of noise values are within $[-2\\sigma \\; 2\\sigma]$"
   ]
  },
  {
   "cell_type": "code",
   "execution_count": null,
   "id": "1dff0db1-ff1b-4a05-9784-f897c4fc8970",
   "metadata": {},
   "outputs": [],
   "source": [
    "def addGaussianNoise(image : np.ndarray, sigma : float) -> np.ndarray:\n",
    "    \"\"\"\n",
    "    Parameters:\n",
    "    - image : np.ndarray\n",
    "        An image on which the Gaussian noise will be applied. It should be a\n",
    "        np.ndarray with dtype=float64, and with values within [0 1].\n",
    "    - sigma : float [0 inf)\n",
    "        The sigma parameter in the Gaussian noise distribution. Should be in [0 inf).\n",
    "    Returns:\n",
    "    - output : np.ndarray\n",
    "        The noisy image, with dtype=np.float64, and values within [0 1].\n",
    "    \"\"\"\n",
    "    # ====== YOUR CODE ======\n",
    "    raise NotImplementedError()\n",
    "\n",
    "# Adding Gaussian noise\n",
    "sigma = .25\n",
    "image_gaussian = addGaussianNoise(image, sigma)\n",
    "image_gaussian_ref = addGaussianNoiseRef(image, sigma)\n",
    "\n",
    "# Showing the results\n",
    "_ = plt.figure(figsize=(18, 6))\n",
    "_ = plt.subplot(1, 3, 1), plt.imshow(image_gaussian, vmin=0, vmax=1), plt.axis('off'), plt.title('Your Gaussian Noise')\n",
    "_ = plt.subplot(1, 3, 2), plt.imshow(image_gaussian_ref, vmin=0, vmax=1), plt.axis('off'), plt.title('Reference Gaussian Noise')\n",
    "_ = plt.subplot(1, 3, 3), plt.imshow(image, vmin=0, vmax=1), plt.axis('off'), plt.title('Original image')"
   ]
  },
  {
   "cell_type": "markdown",
   "id": "9c3e0227-554a-4fb8-bdbc-df532de244c7",
   "metadata": {},
   "source": [
    "### Section 1.4. Rayleigh Noise\n",
    "Rayleigh noise is different from the previous types of noise, as its PDF is not centered at 0, and the density curve is assymetrical and skewed to the right. The PDF for Rayleigh distribution is as follows.\n",
    "\n",
    "$\n",
    "p_{\\sigma}(z) = \n",
    "\\begin{cases}\n",
    "0 & \\text{if $ z < 0 $} \\\\\n",
    "\\Large \\frac{z}{\\sigma^2} \\large e^{-z^2/(2\\sigma^2)} & \\text{if $ 0 \\leq z $}\n",
    "\\end{cases}\n",
    "$\n",
    "\n",
    "As you can see in the PDF below, the center of the probability curve is skewed to the right. The expected value, $\\bar{p}_{\\sigma}(z)=\\sigma \\sqrt{\\frac{\\pi}{2}}$, for the Rayleigh distribution is shown with a triangle, and is located on the right side of the PDF's maximum. The noise in MRI and satellite images follow a pattern that can be simulated by a Rayleigh distribution.\n",
    "\n",
    "**Note:** a more general form of the Rayleigh distribution might include a displacement parameter as well."
   ]
  },
  {
   "cell_type": "code",
   "execution_count": null,
   "id": "dd3e733d-4b71-41ea-a0c0-614fd940f826",
   "metadata": {},
   "outputs": [],
   "source": [
    "drawRayleighPDF(resolution=100, sigma=.1)"
   ]
  },
  {
   "cell_type": "markdown",
   "id": "eeaf8a6a-b3bf-44c2-84c8-315e44872189",
   "metadata": {},
   "source": [
    "Now implement a Rayleigh noise function. Again, you can use NumPy functions."
   ]
  },
  {
   "cell_type": "code",
   "execution_count": null,
   "id": "e685d378-b62d-4144-8499-1809d1cf0b53",
   "metadata": {},
   "outputs": [],
   "source": [
    "def addRayleighNoise(image : np.ndarray, sigma : float) -> np.ndarray:\n",
    "    \"\"\"\n",
    "    Parameters:\n",
    "    - image : np.ndarray\n",
    "        An image on which the Rayleigh noise will be applied. It should be a\n",
    "        np.ndarray with dtype=float64, and with values within [0 1].\n",
    "    - sigma : float [0 inf)\n",
    "        The sigma parameter in the Rayleigh noise distribution. Should be in [0 inf).\n",
    "    Returns:\n",
    "    - output : np.ndarray\n",
    "        The noisy image, with dtype=np.float64, and values within [0 1].\n",
    "    \"\"\"\n",
    "    # ====== YOUR CODE ======\n",
    "    raise NotImplementedError()\n",
    "\n",
    "# Adding Rayleigh noise\n",
    "sigma = .1\n",
    "image_rayleigh = addRayleighNoise(image, sigma)\n",
    "image_rayleigh_ref = addRayleighNoiseRef(image, sigma)\n",
    "\n",
    "# Showing the results\n",
    "_ = plt.figure(figsize=(18, 6))\n",
    "_ = plt.subplot(1, 3, 1), plt.imshow(image_rayleigh, vmin=0, vmax=1), plt.axis('off'), plt.title('Your Rayleigh Noise')\n",
    "_ = plt.subplot(1, 3, 2), plt.imshow(image_rayleigh_ref, vmin=0, vmax=1), plt.axis('off'), plt.title('Reference Rayleigh Noise')\n",
    "_ = plt.subplot(1, 3, 3), plt.imshow(image, vmin=0, vmax=1), plt.axis('off'), plt.title('Original image')"
   ]
  },
  {
   "cell_type": "markdown",
   "id": "9b112274-195e-4917-ba51-44f1171388f7",
   "metadata": {},
   "source": [
    "### Section 1.5. Erlang (Gamma) Noise\n",
    "Erlang noise is another type of noise which has a skewed distribution. It takes two parameters $\\beta$, or scale, and $k$, or shape. The shape parameter is always an integer, and both parameters are also positive.\n",
    "\n",
    "$\n",
    "p_{\\beta,k}(z) = \\Large \\frac{x^{k-1}e^{-k/\\beta}}{\\beta^k(k-1)!}\n",
    "$\n",
    "\n",
    "While this equation might seem formidable at first, you can see by either rewriting or plotting it, that it has a similar shape to the Rayleigh distribution. Indeed, for $k=2$, this distribution is identical to Rayleigh's, and for $k=1$, it becomes identical to the exponential distribution. Draw the distribution for different parameters and see how it looks like.\n",
    "\n",
    "**Note:** Sometimes, you might see the scale parameter replace with rate, shown by $\\lambda = \\Large \\frac{1}{\\beta}$."
   ]
  },
  {
   "cell_type": "code",
   "execution_count": null,
   "id": "de288adf-9ecf-4e53-8435-4e463f7ec809",
   "metadata": {},
   "outputs": [],
   "source": [
    "drawErlangPDF(resolution=100, k=4, beta=.1)"
   ]
  },
  {
   "cell_type": "markdown",
   "id": "bee7acbb-b2c0-4a6c-af58-ac982d168a8e",
   "metadata": {},
   "source": [
    "Try implement an Erlang noise function and see its effects."
   ]
  },
  {
   "cell_type": "code",
   "execution_count": null,
   "id": "5a80acee-a654-4fe3-8e79-ce3a6ccc0724",
   "metadata": {},
   "outputs": [],
   "source": [
    "def addErlangNoise(image : np.ndarray, k : int, beta : float) -> np.ndarray:\n",
    "    \"\"\"\n",
    "    Parameters:\n",
    "    - image : np.ndarray\n",
    "        An image on which the Erlang noise will be applied. It should be a\n",
    "        np.ndarray with dtype=float64, and with values within [0 1].\n",
    "    - k : int [1 inf)\n",
    "        The k parameter in the Erlang noise distribution. Should be a positive\n",
    "        integer.\n",
    "    - beta : float (0 inf)\n",
    "        The beta parameter in the Erlang noise distribution. Should be in (0 inf).\n",
    "    Returns:\n",
    "    - output : np.ndarray\n",
    "        The noisy image, with dtype=np.float64, and values within [0 1].\n",
    "    \"\"\"\n",
    "    # ====== YOUR CODE ======\n",
    "    raise NotImplementedError()\n",
    "\n",
    "# Adding Erlang noise\n",
    "k = 2\n",
    "beta = 0.1\n",
    "image_erlang = addErlangNoise(image, k, beta)\n",
    "image_erlang_ref = addErlangNoiseRef(image, k, beta)\n",
    "\n",
    "# Showing the results\n",
    "_ = plt.figure(figsize=(18, 6))\n",
    "_ = plt.subplot(1, 3, 1), plt.imshow(image_erlang, vmin=0, vmax=1), plt.axis('off'), plt.title('Your Rayleigh Noise')\n",
    "_ = plt.subplot(1, 3, 2), plt.imshow(image_erlang_ref, vmin=0, vmax=1), plt.axis('off'), plt.title('Reference Rayleigh Noise')\n",
    "_ = plt.subplot(1, 3, 3), plt.imshow(image, vmin=0, vmax=1), plt.axis('off'), plt.title('Original image')"
   ]
  },
  {
   "cell_type": "markdown",
   "id": "1be9ab89-9abb-447b-b203-c64b2b27969b",
   "metadata": {},
   "source": [
    "### Section 1.6. Exponential Noise\n",
    "Another type of noise is the exponential noise, in which the probability decreases exponentially as we increase the intensity of the noise. As you saw above, exponential noise can be considered a special type of Erlang noise with $k=1$, where the PDF would look like this:\n",
    "$\n",
    "p_{\\beta}(z) = \\Large \\frac{1}{\\beta} \\large e^{-k/\\beta}\n",
    "$\n",
    "\n",
    "**Note:** You might see the $\\beta$ parameter replaced by rate, or with the standard error, $\\sigma$, which is equal to $\\beta$."
   ]
  },
  {
   "cell_type": "markdown",
   "id": "8479f553-b756-4892-8bf6-34d01c1d3775",
   "metadata": {},
   "source": [
    "## Section 2. How Noise Effects the Histogram"
   ]
  },
  {
   "cell_type": "markdown",
   "id": "be311600-f265-4d3f-9bfa-38f7cbae23b8",
   "metadata": {},
   "source": [
    "## Section 3. Implementing Custom Noise Models in NumPy"
   ]
  },
  {
   "cell_type": "markdown",
   "id": "efe64e3e-3b48-4a23-9f9e-137afa0dc4dc",
   "metadata": {},
   "source": [
    "# Scratchpad\n",
    "You can use this section as a scratchpad, without making a mess in the notebook. :)"
   ]
  },
  {
   "cell_type": "code",
   "execution_count": null,
   "id": "98a4dcb6-7fbe-4fdd-9d51-a77454ccbf88",
   "metadata": {},
   "outputs": [],
   "source": []
  }
 ],
 "metadata": {
  "kernelspec": {
   "display_name": "Python 3 (ipykernel)",
   "language": "python",
   "name": "python3"
  },
  "language_info": {
   "codemirror_mode": {
    "name": "ipython",
    "version": 3
   },
   "file_extension": ".py",
   "mimetype": "text/x-python",
   "name": "python",
   "nbconvert_exporter": "python",
   "pygments_lexer": "ipython3",
   "version": "3.11.3"
  }
 },
 "nbformat": 4,
 "nbformat_minor": 5
}
