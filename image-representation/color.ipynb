{
 "cells": [
  {
   "cell_type": "markdown",
   "id": "9f799d67-6f13-4846-a39e-c4737188f286",
   "metadata": {},
   "source": [
    "# Color in Digital Imaging\n",
    "In this notebook, we will look at the basics of color theory, and how color data is stored in digital format.\n",
    "\n",
    "Since the concepts discussed here are mostly theoretical, this notebook will not contain many practical exercises, and mostly deals with mathematical manipulation of image arrays. If you want to get more familiar with different representations of color images, Chapter 6 of *Digital Image Processing* by *Rafael C. Gonzalez* and *Richard E. Woods* would be a very good source."
   ]
  },
  {
   "cell_type": "markdown",
   "id": "a62f08cf-7304-4afe-9346-73676687b131",
   "metadata": {},
   "source": [
    "## Section 0. Preparing the Notebook\n",
    "We start by importing the necessary libraries and then loading a sample image to work on."
   ]
  },
  {
   "cell_type": "code",
   "execution_count": null,
   "id": "e00d3fb0-03bb-4202-8a09-559da41e05b5",
   "metadata": {},
   "outputs": [],
   "source": [
    "%load_ext autoreload\n",
    "%autoreload 2"
   ]
  },
  {
   "cell_type": "code",
   "execution_count": null,
   "id": "3b01c54a-6fb3-4f46-a0b0-1b4563fc5721",
   "metadata": {},
   "outputs": [],
   "source": [
    "# importing necessary packages\n",
    "import numpy as np\n",
    "from numpy import random\n",
    "import cv2 as cv\n",
    "from matplotlib import pyplot as plt\n",
    "from solutions import *\n",
    "from utils import *"
   ]
  },
  {
   "cell_type": "code",
   "execution_count": null,
   "id": "3bd3574f-fd27-4145-b77c-99842c97f113",
   "metadata": {},
   "outputs": [],
   "source": [
    "# loading the sample image and setting the colormap for pyplot\n",
    "image = np.float64(cv.imread('data/baboon.bmp', cv.IMREAD_COLOR)) / 255\n",
    "plt.set_cmap('Greys_r')\n",
    "_ = plt.imshow(image), plt.axis('off')"
   ]
  },
  {
   "cell_type": "markdown",
   "id": "2b26693c-dfbf-4c39-a06e-c330a1b27312",
   "metadata": {},
   "source": [
    "Here you might be surprised by seeing a baboon with a bright blue nose. However, this serves as a very good preface to our notebook."
   ]
  },
  {
   "cell_type": "markdown",
   "id": "1de16bb3-c213-4dff-b81a-9ce1f7c20c8e",
   "metadata": {},
   "source": [
    "## Section 1. Image Representation"
   ]
  },
  {
   "cell_type": "markdown",
   "id": "e7baae9f-ec89-43fb-a626-28a712162b13",
   "metadata": {},
   "source": [
    "### Section 1.1. Image Representation as the Primary Lights\n",
    "The most common way of saving color images, is by representing their colors as three channels: Red, green, and blue. The reasoning for this, is that human eyes have three types of color receptors, with each of them sensitive to one of these colors. These are collectively known as the primary lights.\n",
    "\n",
    "The most common way of ordering these channels is as RGB, i.e., red, green, and blue. However, OpenCV reads color images as BGR, while matplotlib views images in RGB, which is the reason for the Baboon's odd coloring. Try fixing this problem without using OpenCV's ``cvtColor`` function."
   ]
  },
  {
   "cell_type": "code",
   "execution_count": null,
   "id": "f581b002-6463-441e-bd04-445a803b7fe5",
   "metadata": {},
   "outputs": [],
   "source": [
    "def bgr2rgb(image : np.ndarray) -> np.ndarray:\n",
    "    \"\"\"\n",
    "    Parameters:\n",
    "    - image : np.ndarray\n",
    "        A color image in np.ndarray format with dtype=np.float64.\n",
    "    Returns:\n",
    "    - output : np.ndarray\n",
    "        The original image, with channels converted from BGR to RGB.\n",
    "    \"\"\"\n",
    "    # ====== YOUR CODE ======\n",
    "    raise NotImplementedError()\n",
    "\n",
    "# Converting the image colors\n",
    "image_RGB = bgr2rgb(image)\n",
    "image_RGB_ref = bgr2rgbRef(image)\n",
    "\n",
    "# Showing the result\n",
    "_ = plt.figure(figsize=(14, 7))\n",
    "_ = plt.subplot(1, 2, 1), plt.imshow(image_RGB), plt.axis('off'), plt.title('Your RGB Image')\n",
    "_ = plt.subplot(1, 2, 2), plt.imshow(image_RGB_ref), plt.axis('off'), plt.title('Reference RGB Image')"
   ]
  },
  {
   "cell_type": "markdown",
   "id": "747d1688-b9b9-4d08-8409-2ad181dae2fc",
   "metadata": {},
   "source": [
    "Sometimes, you might have 4-channel images that are formatted as BGRA or RGBA. There, the A, or alpha channel, represents the *opaqueness* of the image. This is useful for images with transparent parts."
   ]
  },
  {
   "cell_type": "markdown",
   "id": "ecbd7128-7c00-46aa-b0a6-8b6aedb2bd08",
   "metadata": {},
   "source": [
    "### Section 1.2. Image Representation as the Primary Colors\n",
    "While the RGB representation is mostly aimed at viewing images in a display, images that are meant to be printed are mostly represented using the CMYK or CMY representation. This representation uses the primary colors, instead of lights. Namely cyan, magenta, and yellow. This is due to the fact that pigments, unlike pixels, create color by absorbing different wavelengths. Therefore, a pigment which absorbs red light will look cyan, one that absorbs green will look magenta, and one that absorbs blue will look yellow.\n",
    "\n",
    "Knowing this, you can infer that in CMY format, the C value can be interpreted as the negative of the R channel in RGB format, and that the other channels in CMY are also the negatives of their respective channels. Implement a function which converts images from RGB to CMY format."
   ]
  },
  {
   "cell_type": "code",
   "execution_count": null,
   "id": "8e207e6f-e9f4-401c-be64-53bd70c26a46",
   "metadata": {},
   "outputs": [],
   "source": [
    "def rgb2cmy(image : np.ndarray) -> np.ndarray:\n",
    "    \"\"\"\n",
    "    Parameters:\n",
    "    - image : np.ndarray\n",
    "        A color image in np.ndarray format with dtype=np.float64.\n",
    "    Returns:\n",
    "    - output : np.ndarray\n",
    "        The original image, with channels converted from RGB to CMY.\n",
    "    \"\"\"\n",
    "    # ====== YOUR CODE ======\n",
    "    raise NotImplementedError()\n",
    "\n",
    "# Converting the image colors\n",
    "image_CMY = rgb2cmy(image_RGB_ref)\n",
    "image_CMY_ref = rgb2cmyRef(image_RGB_ref)\n",
    "\n",
    "# Showing the result\n",
    "_ = plt.figure(figsize=(12, 18))\n",
    "_ = plt.subplot(1, 2, 1), plt.imshow(np.concatenate([image_CMY[:,:,i] for i in range(3)], axis=0)), plt.axis('off'), plt.title('Your CMY Channels')\n",
    "_ = plt.subplot(1, 2, 2), plt.imshow(np.concatenate([image_CMY_ref[:,:,i] for i in range(3)], axis=0)), plt.axis('off'), plt.title('Reference CMY Channels')"
   ]
  },
  {
   "cell_type": "markdown",
   "id": "17cc799b-bbed-4181-87bf-0c42e890ac6a",
   "metadata": {},
   "source": [
    "While this method successfully converts image values to their counterpart color values, CMY is not often used for printing. This is due to the fact that an equal mixture of all CMY pigments, instead of creating a black color, creates a muddy brown, and at the expense of applying three pigments, instead of only using black. Therefore, a more practical approach is using CMYK, with K, or key, representing the value for black. In this approach, the K value represents the share of black color in the image, and the CMY channels only determine the color. The equations for CMY to CMYK conversion are written below. The values for CMYK are marked with an apostrophe to avoid confusion.\n",
    "\n",
    "$\n",
    "K' = \\min(C,M,Y)\n",
    "$\n",
    "\n",
    "$\n",
    "C' = (C - K) / (1 - K)\n",
    "$\n",
    "\n",
    "$\n",
    "M' = (M - K) / (1 - K)\n",
    "$\n",
    "\n",
    "$\n",
    "Y' = (Y - K) / (1 - K)\n",
    "$\n",
    "\n",
    "The exception to this equation is cases where $K=1$, i.e. the color black, in which the other 3 channels will be set to zero.\n",
    "\n",
    "With this information, implement a conversion function for RGB to CMYK."
   ]
  },
  {
   "cell_type": "code",
   "execution_count": null,
   "id": "f01f562c-cf9c-4a05-8203-23c17c94bed9",
   "metadata": {},
   "outputs": [],
   "source": [
    "def rgb2cmyk(image : np.ndarray) -> np.ndarray:\n",
    "    \"\"\"\n",
    "    Parameters:\n",
    "    - image : np.ndarray\n",
    "        A color image in np.ndarray format with dtype=np.float64.\n",
    "    Returns:\n",
    "    - output : np.ndarray\n",
    "        The original image, with channels converted from RGB to CMYK.\n",
    "    \"\"\"\n",
    "    # ====== YOUR CODE ======\n",
    "    raise NotImplementedError()\n",
    "\n",
    "# Converting the image colors\n",
    "image_CMYK = rgb2cmyk(image_RGB_ref)\n",
    "image_CMYK_ref = rgb2cmykRef(image_RGB_ref)\n",
    "\n",
    "# Showing the result\n",
    "_ = plt.figure(figsize=(12, 24))\n",
    "_ = plt.subplot(1, 2, 1), plt.imshow(np.concatenate([image_CMYK[:,:,i] for i in range(4)], axis=0)), plt.axis('off'), plt.title('Your CMY Channels')\n",
    "_ = plt.subplot(1, 2, 2), plt.imshow(np.concatenate([image_CMYK_ref[:,:,i] for i in range(4)], axis=0)), plt.axis('off'), plt.title('Reference CMY Channels')"
   ]
  },
  {
   "cell_type": "markdown",
   "id": "9907a5e2-bd28-4122-8f18-7c26d21b9b8a",
   "metadata": {},
   "source": [
    "### Section 1.3. Other Features From Color\n",
    "While using primary lights or colors can be helpful in many situations, there are other representations which are sometimes used in their stead.\n",
    "\n",
    "Perhaps the most well-known is the HSI, or HSI representation. In this representation, *H* stands for hue, or the shade of color. *S* stands for saturation, which can be seen as a measure of how *pure* the color is. By decreasing the saturation of a color, you mix more of the Black/Grey/White spectrum with it. Finally, *I*, stands for intensity, i.e. how bright the color is.\n",
    "\n",
    "They formulae for the conversion of a color from the RGB space to HSI are as follows:\n",
    "\n",
    "$\n",
    "H = \n",
    "\\begin{cases}\n",
    "\\theta & \\text{if} B \\leq G \\\\\n",
    "2 \\pi - \\theta & \\text{if} B > G\n",
    "\\end{cases}\n",
    "$\n",
    "\n",
    "$\n",
    "\\theta = cos^{-1} \\Big \\{ \\Large \\frac{2 R-G-B}{2 \\sqrt{(R-G)^2 + (R-B)(G-B)}} \\Big \\}\n",
    "$\n",
    "\n",
    "$\n",
    "S=1 - \\Large \\frac{3 min(R,G,B)}{R+G+B}\n",
    "$\n",
    "\n",
    "$\n",
    "I = (R+G+B) / 3\n",
    "$\n",
    "\n",
    "While the equations for finding $\\theta$ and $H$ might seem hard to grasp, there is a simple way of visualizing how these equations work. The HSI model is based off of a circular view of the color space, where the three colors of red, green, and blue are three vectors which can be used to create the various color within the space. You can see a visualization of this model below. Note the position of three primary colors in the coordinates. The *hue* parameter is simply the angle of the color vector compared to the vector of the color red.\n",
    "\n",
    "![Hue Space](figures/hue_vectors.jpg \"Hue Space\")\n",
    "\n",
    "Now using this knowledge, implement functions for converting between RGB and HSI color spaces.\n",
    "\n",
    "**Note:** As you might have noticed, hue is essentially a vector angle. Therefore it is generally expressed in degrees. Here, a mapping of $[0 \\: 1]$ is done for the hue values. You might see hue values expressed in degrees, radians, or in the 8-bit space of *uint8*."
   ]
  },
  {
   "cell_type": "code",
   "execution_count": null,
   "id": "5fa294a2-782e-4dd4-a4ac-c8bf96cf760a",
   "metadata": {},
   "outputs": [],
   "source": [
    "def rgb2hsi(image : np.ndarray) -> np.ndarray:\n",
    "    \"\"\"\n",
    "    Parameters:\n",
    "    - image : np.ndarray\n",
    "        A color image in np.ndarray format with dtype=np.float64.\n",
    "    Returns:\n",
    "    - output : np.ndarray\n",
    "        The original image, with channels converted from RGB to HSI.\n",
    "    \"\"\"\n",
    "    # ====== YOUR CODE ======\n",
    "    raise NotImplementedError()\n",
    "\n",
    "# Converting the image colors\n",
    "# image_HSI = rgb2hsi(image_RGB_ref)\n",
    "image_HSI_ref = rgb2hsiRef(image_RGB_ref)\n",
    "\n",
    "# Showing the result\n",
    "_ = plt.figure(figsize=(18, 18))\n",
    "_ = plt.subplot(1, 2, 1), plt.imshow(np.concatenate([image_HSI[:,:,i] for i in range(3)], axis=0)), plt.axis('off'), plt.title('Your HSI Channels')\n",
    "_ = plt.subplot(1, 2, 2), plt.imshow(np.concatenate([image_HSI_ref[:,:,i] for i in range(3)], axis=0)), plt.axis('off'), plt.title('Reference HSI Channels')"
   ]
  },
  {
   "cell_type": "markdown",
   "id": "94d784fe-b97c-4b85-9a4d-601f56aee044",
   "metadata": {},
   "source": [
    "The noise pattern that you see on the baboon's nose in the hue channel, is due to the \"angle-like\" nature of this channel. In other words, a slightly yellowish red will have a very low hue value, while the hue value of a slightly blue-ish red will be close to maximum. Hence the black and white pattern in the hue channel."
   ]
  },
  {
   "cell_type": "markdown",
   "id": "ab959214-327e-446e-8597-ca08df34f624",
   "metadata": {},
   "source": [
    "Converting from HSI to RGB is a slightly more complicated process, and involves different equations for each of the 3 parts in the hue diagram.\n",
    "For the **RG** part of the hue, i.e. the part where hue is below $120^{\\circ}$, we have:\n",
    "\n",
    "$\n",
    "R = I [ 1 + \\Large \\frac{S cos H}{cos(60^{\\circ} - H)} \\normalsize]\n",
    "$\n",
    "\n",
    "$\n",
    "B = I (1 - S)\n",
    "$\n",
    "\n",
    "$\n",
    "G = 3 I - R - B\n",
    "$\n",
    "\n",
    "And similar functions for the **GB** and **BR** sections of the hue chart. However, in those regions the values of $H$ are subtracted by $120^{\\circ}$ and $240^{\\circ}$, and the order of the **RGB** channels in the equations above is also altered. Try to rationalize these equations and implement a function to convert the HSI image above back to RGB."
   ]
  },
  {
   "cell_type": "code",
   "execution_count": null,
   "id": "d61c9021-bb84-48b7-acea-9812381c8272",
   "metadata": {},
   "outputs": [],
   "source": [
    "def hsi2rgb(image : np.ndarray) -> np.ndarray:\n",
    "    \"\"\"\n",
    "    Parameters:\n",
    "    - image : np.ndarray\n",
    "        A color image in np.ndarray format with dtype=np.float64.\n",
    "    Returns:\n",
    "    - output : np.ndarray\n",
    "        The original image, with channels converted from HSI to RGB.\n",
    "    \"\"\"\n",
    "    # ====== YOUR CODE ======\n",
    "    raise NotImplementedError()\n",
    "\n",
    "# Converting the image colors\n",
    "image_RGB_new = rgb2hsi(image_HSI)\n",
    "image_RGB_new_ref = hsi2rgbRef(image_HSI_ref) \n",
    "\n",
    "# Showing the result\n",
    "_ = plt.figure(figsize=(14, 12))\n",
    "_ = plt.subplot(1, 2, 1), plt.imshow(np.concatenate([image_RGB_new[:,:,i] for i in range(3)], axis=0)), plt.axis('off'), plt.title('Your Rebuilt RGB Channels')\n",
    "_ = plt.subplot(1, 2, 1), plt.imshow(image_RGB_new_ref), plt.axis('off'), plt.title('Reference Rebuilt RGB Channels')"
   ]
  },
  {
   "cell_type": "markdown",
   "id": "13281e55-9c44-43b2-baa9-2aa8a0717537",
   "metadata": {},
   "source": [
    "# Scratchpad\n",
    "You can use this section to try out different codes, without making a mess of the notebook. :)"
   ]
  },
  {
   "cell_type": "code",
   "execution_count": null,
   "id": "5d67a051-7937-43ef-a16d-9efdeac598d3",
   "metadata": {},
   "outputs": [],
   "source": []
  }
 ],
 "metadata": {
  "kernelspec": {
   "display_name": "Python 3 (ipykernel)",
   "language": "python",
   "name": "python3"
  },
  "language_info": {
   "codemirror_mode": {
    "name": "ipython",
    "version": 3
   },
   "file_extension": ".py",
   "mimetype": "text/x-python",
   "name": "python",
   "nbconvert_exporter": "python",
   "pygments_lexer": "ipython3",
   "version": "3.11.3"
  }
 },
 "nbformat": 4,
 "nbformat_minor": 5
}
