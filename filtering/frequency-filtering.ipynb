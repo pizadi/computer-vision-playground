{
 "cells": [
  {
   "cell_type": "markdown",
   "id": "552132d9-77bc-439b-bc6b-1ba73ae6078b",
   "metadata": {},
   "source": [
    "# Filtering in the Frequency Domain\n",
    "In this notebook, we will go through the basics of filtering in the frequency domain using the Fourier transform."
   ]
  },
  {
   "cell_type": "markdown",
   "id": "cba81a77-b0e1-4d1c-a2ba-e9edb2113502",
   "metadata": {},
   "source": [
    "## Section 0. Preparing the Notebook\n",
    "We start by importing the necessary libraries and then loading a sample image to work on."
   ]
  },
  {
   "cell_type": "markdown",
   "id": "4cb981a3-b718-4d80-97db-088a0d89f6bb",
   "metadata": {},
   "source": [
    "## Section 1. Fourier Transform in NumPy"
   ]
  },
  {
   "cell_type": "markdown",
   "id": "028caddb-8a45-4bb3-aba9-362e81a7824c",
   "metadata": {},
   "source": [
    "## Section 2. Filtering in the Frequency Domain"
   ]
  },
  {
   "cell_type": "markdown",
   "id": "a8995f01-0a2f-42ed-8832-fa34cc0f39ce",
   "metadata": {},
   "source": [
    "## Section 3. Common Filters"
   ]
  },
  {
   "cell_type": "markdown",
   "id": "14b23526-0c91-4189-a91f-2bb51f8418ba",
   "metadata": {},
   "source": [
    "**Note:** There are some methods of filtering in the frequency domain which are mainly aimed at removing noise patterns. You can read about these methods and try them in the \"Noise Removal\" notebook."
   ]
  },
  {
   "cell_type": "markdown",
   "id": "a1bff918-b264-4cba-a6da-40977c19a4fe",
   "metadata": {},
   "source": [
    "# Scratchbook\n",
    "You can use this section to try out different codes, without making a mess of the notebook. :)"
   ]
  },
  {
   "cell_type": "code",
   "execution_count": null,
   "id": "db3ffb6c-f4e6-43ae-9f4d-a9a4e8f52d12",
   "metadata": {},
   "outputs": [],
   "source": []
  }
 ],
 "metadata": {
  "kernelspec": {
   "display_name": "Python 3 (ipykernel)",
   "language": "python",
   "name": "python3"
  },
  "language_info": {
   "codemirror_mode": {
    "name": "ipython",
    "version": 3
   },
   "file_extension": ".py",
   "mimetype": "text/x-python",
   "name": "python",
   "nbconvert_exporter": "python",
   "pygments_lexer": "ipython3",
   "version": "3.11.3"
  }
 },
 "nbformat": 4,
 "nbformat_minor": 5
}
