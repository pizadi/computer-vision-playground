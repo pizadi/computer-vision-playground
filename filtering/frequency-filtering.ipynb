{
 "cells": [
  {
   "cell_type": "markdown",
   "id": "552132d9-77bc-439b-bc6b-1ba73ae6078b",
   "metadata": {},
   "source": [
    "# Filtering in the Frequency Domain\n",
    "In this notebook, we will go through the basics of filtering in the frequency domain using the Fourier transform."
   ]
  },
  {
   "cell_type": "markdown",
   "id": "cba81a77-b0e1-4d1c-a2ba-e9edb2113502",
   "metadata": {},
   "source": [
    "## Section 0. Preparing the Notebook\n",
    "We start by importing the necessary libraries and then loading a sample image to work on."
   ]
  },
  {
   "cell_type": "code",
   "execution_count": null,
   "id": "781aa25b-a307-46a4-8cc8-43917d2036e6",
   "metadata": {},
   "outputs": [],
   "source": [
    "%load_ext autoreload\n",
    "%autoreload 2"
   ]
  },
  {
   "cell_type": "code",
   "execution_count": null,
   "id": "00a3062a-5563-4869-8403-f8d97d5448d9",
   "metadata": {},
   "outputs": [],
   "source": [
    "# importing necessary packages\n",
    "import numpy as np\n",
    "from numpy import random\n",
    "import cv2 as cv\n",
    "from matplotlib import pyplot as plt\n",
    "from solutions import *\n",
    "from utils import *"
   ]
  },
  {
   "cell_type": "code",
   "execution_count": null,
   "id": "9b4c966c-4be1-47f0-b8af-9a9e4903f21c",
   "metadata": {},
   "outputs": [],
   "source": [
    "# loading the sample image and setting the colormap for pyplot\n",
    "image = np.float64(cv.imread('data/tank.bmp', cv.IMREAD_GRAYSCALE) / 255)\n",
    "plt.set_cmap('Greys_r')\n",
    "_ = plt.imshow(image), plt.axis('off')"
   ]
  },
  {
   "cell_type": "markdown",
   "id": "4cb981a3-b718-4d80-97db-088a0d89f6bb",
   "metadata": {},
   "source": [
    "## Section 1. Fourier Transform in NumPy\n",
    "We first start by exploring the ``fft`` module in NumPy. If you are not familiar with the Fourier Transform, I recommend that you first familiarize yourself with this concept. Some good sources are *Signals & Systems* by *Alan V. Oppenheim and Allan S. Willsky*, YouTube videos such as [this](https://youtu.be/1JnayXHhjlg) and [this](https://youtu.be/spUNpyF58BY), or online courses such as [Khan Academy's](https://www.khanacademy.org/science/electrical-engineering/ee-signals/ee-fourier-series/v/ee-fourier-series-intro).\n",
    "The ``fft`` module uses an implementation of Fourier transform known as *fast Fourier transform*, whose time complexity is $\\mathcal{O}(n \\log(n))$ for 1-dimensional signals, much more efficient than the naive approach which has a time complexity of $\\mathcal{O}(n^2)$."
   ]
  },
  {
   "cell_type": "markdown",
   "id": "ae6efe73-bf9b-4627-b8ac-f5b1008f86ba",
   "metadata": {},
   "source": [
    "### Section 1.1. Calculating the Fourier Transform\n",
    "We start by calculating the forward Fourier transform of the given image. Note that you should use the ``fft2`` function to calculate the Fourier transform along both the image axes. Then, we show the magnitude of the Fourier transform at each frequency as an image.\n",
    "\n",
    "**Note:** Since the Fourier transform of an image consists of complex numbers, we will only show the magnitude of the transform. Furthermore, since the difference in values is too great to be properly shown in a normal image, we have used the logarithm of the magnitude."
   ]
  },
  {
   "cell_type": "code",
   "execution_count": null,
   "id": "fd0021b4-70b0-4735-a5d4-f49e25542eb9",
   "metadata": {},
   "outputs": [],
   "source": [
    "# Calculate the fourier transform\n",
    "image_f_ref = np.fft.fft2(image)\n",
    "\n",
    "# Showing the magnitude map\n",
    "eps = 1e-15\n",
    "_ = plt.figure(figsize=(8, 8))\n",
    "_ = plt.imshow(np.log(np.abs(image_f_ref) + eps)), plt.axis('off'), plt.title('Magnitude of the Fourier Transform')"
   ]
  },
  {
   "cell_type": "markdown",
   "id": "96e3bd83-cabe-4843-ade7-8ce632980e75",
   "metadata": {},
   "source": [
    "### Section 1.2. Centering the Transform\n",
    "As you can see above, the highest frequencies are located in the corners of the image. This is because for a sequence of length $N$, NumPy will order the transform in a way that the frequencies are ordered from $0$ to $\\large \\frac{2 \\pi (N-1)}{N}$. However, it would be more convenient for us if all the low frequencies (that is the ones whose absolute value is closer to zero) were put in the center of the image. We can center the low frequencies using the ``np.fft.fftshift`` function."
   ]
  },
  {
   "cell_type": "code",
   "execution_count": null,
   "id": "6c76b875-72e6-4303-b637-4d7497f13017",
   "metadata": {},
   "outputs": [],
   "source": [
    "# Shifting the Fourier transform\n",
    "image_f_shift_ref = np.fft.fftshift(image_f_ref)\n",
    "\n",
    "# Showing the magnitude map\n",
    "eps = 1e-15\n",
    "_ = plt.figure(figsize=(8, 8))\n",
    "_ = plt.imshow(np.log(np.abs(image_f_shift_ref) + eps)), plt.axis('off'), plt.title('Magnitude of the Fourier Transform')"
   ]
  },
  {
   "cell_type": "markdown",
   "id": "d80d97c3-55ea-46b2-9942-78d8c8773f41",
   "metadata": {},
   "source": [
    "As you can see, the low frequencies, which are the strongest in this image, are now placed at the center."
   ]
  },
  {
   "cell_type": "markdown",
   "id": "5d1ce2d2-def4-4cab-b1ff-f06dc771196b",
   "metadata": {},
   "source": [
    "### Section 1.3. Inverse Fourier Transform\n",
    "Let's say you've manipulated the frequencies of the image in the way that you want, and now you want to convert the Fourier transform back into an image. You can do so by first reversing the shift by ``np.fft.ifftshift``, then applying the inverse fourier transform by ``np.fft.ifft2``, and finally, getting rid of the complex part of the image (which should be practically equal to zero) by either using the ``np.real`` function, the ``np.abs`` function, or just casting it into ``np.float64``."
   ]
  },
  {
   "cell_type": "code",
   "execution_count": null,
   "id": "a19c7c7f-d092-4dca-9043-d6f0e95200f6",
   "metadata": {},
   "outputs": [],
   "source": [
    "# Reversing the Fourier transform\n",
    "image_r = np.fft.ifft2(np.fft.ifftshift(image_f_shift_ref))\n",
    "image_r = np.real(image_r)\n",
    "\n",
    "# Showing the reconstructed image\n",
    "_ = plt.figure(figsize=(8, 8))\n",
    "_ = plt.imshow(image_r, vmin=0, vmax=1), plt.axis('off'), plt.title('Magnitude of the Fourier Transform')"
   ]
  },
  {
   "cell_type": "markdown",
   "id": "028caddb-8a45-4bb3-aba9-362e81a7824c",
   "metadata": {},
   "source": [
    "## Section 2. Filtering in the Frequency Domain\n",
    "Filtering in the frequency domain is done by multiplying two fourier transforms with each other, rather than using correlation. Let's have a look at how this is done."
   ]
  },
  {
   "cell_type": "markdown",
   "id": "2a0cec82-86ad-4ee9-a0aa-3074f06c90d4",
   "metadata": {},
   "source": [
    "### Section 2.1. Padding and Transformation\n",
    "The first thing that you should do before applying the filter, is padding the image, either by zeros, copied pixels, or mirrored versions of itself. The reason for this, is that the Fourier transform inherently treats the image as a periodic function, i.e. a tiled version of itself. Therefore, if you don't pad the image, you might sometimes see data from the opposite sides *leaking* into the image, and causing unwanted artifacting. Here we will create a padded version with twice the size of the original image. And only then, will we apply the fourier transform."
   ]
  },
  {
   "cell_type": "code",
   "execution_count": null,
   "id": "53774f07-721a-46c8-8d80-9ffdb18cdb22",
   "metadata": {},
   "outputs": [],
   "source": [
    "# Padding the image\n",
    "def padAndTransform(image : np.ndarray) -> np.ndarray:\n",
    "    \"\"\"\n",
    "    Parameters:\n",
    "    - image : np.ndarray\n",
    "        A grayscale image whose Fourier transform will be calculated.\n",
    "    Returns:\n",
    "    - output : np.ndarray\n",
    "        The shifted fourier transform of the padded image, with twice the size.\n",
    "    \"\"\"\n",
    "    # ====== YOUR CODE ======\n",
    "    raise NotImplementedError()\n",
    "\n",
    "# Calculating the Fourier transform of the padded image\n",
    "image_pad_f = padAndTransform(image)\n",
    "image_pad_f_ref = padAndTransformRef(image)\n",
    "\n",
    "# Showing the results\n",
    "_ = plt.figure(figsize=(14, 7))\n",
    "_ = plt.subplot(1, 2, 1), plt.imshow(np.log(np.abs(image_pad_f))), plt.axis('off'), plt.title('Your Fourier Transform')\n",
    "_ = plt.subplot(1, 2, 2), plt.imshow(np.log(np.abs(image_pad_f_ref))), plt.axis('off'), plt.title('Reference Fourier Transform')"
   ]
  },
  {
   "cell_type": "markdown",
   "id": "e5724a80-4b96-4a56-9d4f-b26b3c72db27",
   "metadata": {},
   "source": [
    "### Section 2.2. Applying the Filter\n",
    "Now that we have the Fourier transform, we can multiply it by a filter. Here we use a simple low-pass filter, which you will implement yourself later on in this notebook. Then, we apply the inverse transform and view the image without the padding."
   ]
  },
  {
   "cell_type": "code",
   "execution_count": null,
   "id": "876ad82f-9ff3-4cd4-a08d-66757d9acbb8",
   "metadata": {},
   "outputs": [],
   "source": [
    "# Generating the low-pass filter\n",
    "filter_low_pass = lowPassFilter(image_pad_f_ref.shape)\n",
    "\n",
    "# Multiplying by the filter\n",
    "image_pad_f_filtered = image_pad_f_ref * filter_low_pass\n",
    "\n",
    "# Recreating the image\n",
    "h, w = image.shape\n",
    "image_filtered_ref = np.real(np.fft.ifft2(np.fft.ifftshift(image_pad_f_filtered)))[:h,:w]\n",
    "\n",
    "# Showing the filtered image\n",
    "_ = plt.figure(figsize=(14, 7))\n",
    "_ = plt.subplot(1, 2, 1), plt.imshow(image_filtered_ref, vmin=0, vmax=1), plt.axis('off'), plt.title('Filtered Image')\n",
    "_ = plt.subplot(1, 2, 2), plt.imshow(image, vmin=0, vmax=1), plt.axis('off'), plt.title('Original Image')"
   ]
  },
  {
   "cell_type": "markdown",
   "id": "1aa56703-2b38-4f91-bae0-bb876ad03fe3",
   "metadata": {},
   "source": [
    "As you can see, the result is indeed a version of the image with diminished high frequencies (a.k.a fine details). You can see the dark edges of the image, which were caused by our zero-padding.\n",
    "\n",
    "Below, you can see the result of filtering with a variety of paddings, and filtering with no padding. Notice how the details on the edges of the image change based on the padding method."
   ]
  },
  {
   "cell_type": "code",
   "execution_count": null,
   "id": "2c4e9ab4-72f5-4174-a87c-8bbb27e2f8fc",
   "metadata": {},
   "outputs": [],
   "source": [
    "image_clown = np.float64(cv.imread('data/clown.bmp', cv.IMREAD_GRAYSCALE) / 255)\n",
    "paddingDemo(image_clown)"
   ]
  },
  {
   "cell_type": "markdown",
   "id": "6003d44e-d68f-4e40-ab94-1e7009b21f8c",
   "metadata": {},
   "source": [
    "Considering these results, implement a padding function of your choice. You can choose any padding of your choice, but the solutions use mirror padding. Therefore, if you get slightly different results, it might be because you chose a different method of padding."
   ]
  },
  {
   "cell_type": "code",
   "execution_count": null,
   "id": "d9f3c841-0838-4335-88a6-97e5e367353b",
   "metadata": {},
   "outputs": [],
   "source": [
    "def pad(image : np.ndarray) -> np.ndarray:\n",
    "    \"\"\"\n",
    "    Parameters:\n",
    "    - image : np.ndarray\n",
    "        A grayscale image whose Fourier transform will be calculated.\n",
    "    Returns:\n",
    "    - output : np.ndarray\n",
    "        The padded image, with twice the size.\n",
    "    \"\"\"\n",
    "    # ====== YOUR CODE ======\n",
    "    raise NotImplementedError()\n",
    "\n",
    "# Padding an image\n",
    "image_pad = pad(image)\n",
    "image_pad_ref = padRef(image)\n",
    "\n",
    "# Showing the results\n",
    "_ = plt.figure(figsize=(14, 7))\n",
    "_ = plt.subplot(1, 2, 1), plt.imshow(image_pad, vmin=0, vmax=1), plt.axis('off'), plt.title('Your Padded Image')\n",
    "_ = plt.subplot(1, 2, 2), plt.imshow(image_pad_ref, vmin=0, vmax=1), plt.axis('off'), plt.title('Reference Padded Image')"
   ]
  },
  {
   "cell_type": "markdown",
   "id": "526360fe-912e-4dd0-8116-82900d4b66a2",
   "metadata": {},
   "source": [
    "## Section 3. The Relation Between Spatial and Frequency Filtering\n",
    "If you're familiar with the concept of convolution and how it translates into the frequency domain, you'd know that these two equations are equivalent:\n",
    "\n",
    "$\n",
    "(h \\star g)(t)\n",
    "$\n",
    "\n",
    "$\n",
    "\\large \\mathcal{F}^-1[\\normalsize H(\\omega) \\cdot G(\\omega) \\large]\n",
    "$\n",
    "\n",
    "And since convolution is very similar to the way we apply kernels to images (correlation with a kernel can be seen as convolution with the flipped kernel), filtering in the frequency domain is practically equivalent to filtering in the spatial domain. Meaning that if you can achieve a result by using a filter in the frequency domain, there is a way of achieving that in the spatial domain too, albeit with a different level of complexity."
   ]
  },
  {
   "cell_type": "markdown",
   "id": "846db367-23ae-4805-9077-67957f335621",
   "metadata": {},
   "source": [
    "### Section 3.1. Spatial Filters in the Frequency Domain\n",
    "Let's begin by observing how some of the more familiar spatial kernels look like, when we take them into the frequency domain. Note that here, we have padded the kernels with zeros to be as large as the original image. Doing so does not change the effects of the kernel, since its value can be considered zero outside of the kernel boundaries."
   ]
  },
  {
   "cell_type": "code",
   "execution_count": null,
   "id": "7e2b9257-a7ec-45d3-8a09-042b13fe2483",
   "metadata": {},
   "outputs": [],
   "source": [
    "spatialKernelDemo(image.shape)"
   ]
  },
  {
   "cell_type": "markdown",
   "id": "d1211cc2-d812-450e-8ad9-da13b2d16e46",
   "metadata": {},
   "source": [
    "As you can see, the filters which we know as *low-pass*, diminish the high frequencies, while keeping the lower ones, and the high-pass filters do the opposite. A distinction that can be made between the Laplacian filter and the Prewitt filters, is that while the Lpalacian acts as a high-pass filter for all frequencies, the horizontal prewitt filter, for example, acts as a high-pass filter for the horizontal frequencies (those that have a high frequency in the horizontal direction, but a low frequency in the vertical direction), but for vertical frequencies, it acts as a low-pass filter. This observation is consistent with the method that we create a Prewitt filter (mean filtering in one direction and differentiating in the other)."
   ]
  },
  {
   "cell_type": "markdown",
   "id": "a8995f01-0a2f-42ed-8832-fa34cc0f39ce",
   "metadata": {},
   "source": [
    "## Section 4. Constructing Low-Pass Filters\n",
    "Now that you have been familiarized with the spectra of common spatial filters, we can begin to construct some low-pass filters in the frequency domain. We can later use these to create a variety of new filters."
   ]
  },
  {
   "cell_type": "markdown",
   "id": "0bc163a2-6f10-46ef-88d3-9f053049ca97",
   "metadata": {},
   "source": [
    "### Section 4.1. Ideal Low-Pass Filtering\n",
    "The most straightforward approach to low-pass filtering, is simply removing all the frequencies above a certain threshold, which is known as an ideal low-pass filter. Implement such a filter, and see its results."
   ]
  },
  {
   "cell_type": "code",
   "execution_count": null,
   "id": "988e51a5-7eb4-4dce-8540-a54c4bd3f71f",
   "metadata": {},
   "outputs": [],
   "source": [
    "def idealLowPass(image : np.ndarray, threshold : float) -> np.ndarray:\n",
    "    \"\"\"\n",
    "    Parameters:\n",
    "    - image : np.ndarray\n",
    "        An image on which the filtering will be applied. It should be a np.ndarray\n",
    "        with dtype=float64.\n",
    "    - threshold : float\n",
    "        The highest frequency which should be allowed to pass. Should be a float in\n",
    "        [0 inf).\n",
    "    Returns:\n",
    "    - output : np.ndarray\n",
    "        The filtered image, with dtype=np.float64.\n",
    "    \"\"\"\n",
    "    # ====== YOUR CODE ======\n",
    "    raise NotImplementedError()\n",
    "\n",
    "# Applying the filter\n",
    "threshold = 0.2 * np.pi\n",
    "image_filtered = idealLowPass(image, threshold)\n",
    "image_filtered_ref = idealLowPassRef(image, threshold)\n",
    "\n",
    "# Showing the results\n",
    "_ = plt.figure(figsize=(18, 6))\n",
    "_ = plt.subplot(1, 3, 1), plt.imshow(image_filtered, vmin=0, vmax=1), plt.axis('off'), plt.title('Your Filtered Image')\n",
    "_ = plt.subplot(1, 3, 2), plt.imshow(image_filtered_ref, vmin=0, vmax=1), plt.axis('off'), plt.title('Reference Filtered Image')\n",
    "_ = plt.subplot(1, 3, 3), plt.imshow(image, vmin=0, vmax=1), plt.axis('off'), plt.title('Original Image')"
   ]
  },
  {
   "cell_type": "markdown",
   "id": "fec47069-d588-4a83-ba50-88a3983cc473",
   "metadata": {},
   "source": [
    "As you decrease the passing threshold, you can see that a sort of rippling effect appears in the image, which is not desirable. Therefore, ideal low-pass filters (or any kind of filter that sharply blocks out certain frequencies) are generally avoided in image processing."
   ]
  },
  {
   "cell_type": "markdown",
   "id": "4f51c3f1-2b83-4948-a363-0b314016b9c4",
   "metadata": {},
   "source": [
    "### Gaussian Low-Pass Filter\n",
    "One alternative to the naive approach to low-pass filtering, is by using a Gaussian function. In this method, the extent to which a frequency is passes is proportional to the Gaussian function of that frequency. The equation for the filter is written below.\n",
    "\n",
    "$\n",
    "H(u,v) = \\exp(- \\large \\frac{(u^2 + v^2)}{2\\sigma^2})\n",
    "$\n",
    "\n",
    "Note that we have omitted the coefficient behind the exponential function. This is done so that $H(0,0)=1$, therefore keeping the average intensity of the image constant. \n",
    "\n",
    "A more *correct* way of implementing this filter in a discrete domain (e.g. our pixelated image), would contain an integration of the Gaussian function instead of the function itself. However, for most practical purposes, and as long as the $\\sigma$ is not too small, or the image resolution too low, this would not be much of an issue. With these points in consideration, try implementing a Gaussian Low Pass filter.\n",
    "\n",
    "**Note:** While this filter and the spatial Gaussian filter share the same name, and have similar spectra and kernel representations, they are often *not* equivalent. This is due to issues in the implementation, such as the limited size of the Gaussian kernel, and the simplification that we mentioned earlier. In an [ideal situation](https://mathworld.wolfram.com/FourierTransformGaussian.html), however, both the kernel and the spectrum are Gaussian functions, with inverse $\\sigma$s."
   ]
  },
  {
   "cell_type": "code",
   "execution_count": null,
   "id": "a69058bd-dacf-45ff-b163-10b15b7ad52d",
   "metadata": {},
   "outputs": [],
   "source": [
    "def gaussianLowPass(image : np.ndarray, sigma : float) -> np.ndarray:\n",
    "    \"\"\"\n",
    "    Parameters:\n",
    "    - image : np.ndarray\n",
    "        An image on which the filtering will be applied. It should be a np.ndarray\n",
    "        with dtype=float64.\n",
    "    - sigma : float\n",
    "        The sigma value for the Gaussian function. Should be a positive number.\n",
    "    Returns:\n",
    "    - output : np.ndarray\n",
    "        The filtered image, with dtype=np.float64.\n",
    "    \"\"\"\n",
    "    # ====== YOUR CODE ======\n",
    "    raise NotImplementedError()\n",
    "\n",
    "# Applying the filter\n",
    "sigma = 0.3 * np.pi\n",
    "image_gaussian_filtered = gaussianLowPass(image, sigma)\n",
    "image_gaussian_filtered_ref = gaussianLowPassRef(image, sigma)\n",
    "\n",
    "# Showing the results\n",
    "_ = plt.figure(figsize=(18, 6))\n",
    "_ = plt.subplot(1, 3, 1), plt.imshow(image_gaussian_filtered, vmin=0, vmax=1), plt.axis('off'), plt.title('Your Gaussian Filtered Image')\n",
    "_ = plt.subplot(1, 3, 2), plt.imshow(image_gaussian_filtered_ref, vmin=0, vmax=1), plt.axis('off'), plt.title('Reference Gaussian Filtered Image')\n",
    "_ = plt.subplot(1, 3, 3), plt.imshow(image, vmin=0, vmax=1), plt.axis('off'), plt.title('Original Image')"
   ]
  },
  {
   "cell_type": "markdown",
   "id": "97dacc0e-6651-4bd8-bdb0-e43b8f36d525",
   "metadata": {},
   "source": [
    "### Butterworth Low-Pass Filter\n",
    "Another widely-used low-pass filter is the butterworth low-pass filter. The equation for this filter is written below.\n",
    "\n",
    "$\n",
    "H(u,v) = \\Large \\frac{1}{1+((u^2 + v^2) / D_0^2)^{n}}\n",
    "$\n",
    "\n",
    "Here, $D_0$ is the threshold for letting a frequency get through, and $n$ is the order of the filter. The higher order a Butterworth filter is, the sharper it will remove the unwanted frequencies. Implement and view the output of this filter with different parameters."
   ]
  },
  {
   "cell_type": "code",
   "execution_count": null,
   "id": "a492f820-39b2-4428-9f68-c1b02fe0ac31",
   "metadata": {},
   "outputs": [],
   "source": [
    "def butterworthLowPass(image : np.ndarray, d : float, order : float) -> np.ndarray:\n",
    "    \"\"\"\n",
    "    Parameters:\n",
    "    - image : np.ndarray\n",
    "        An image on which the filtering will be applied. It should be a np.ndarray\n",
    "        with dtype=float64.\n",
    "    - d : float\n",
    "        The d value for the Butterworth filter. Should be a positive number.\n",
    "    - order : float\n",
    "        The order of the Butterworth filter. Should be a positive number.\n",
    "    Returns:\n",
    "    - output : np.ndarray\n",
    "        The filtered image, with dtype=np.float64.\n",
    "    \"\"\"\n",
    "    # ====== YOUR CODE ======\n",
    "    raise NotImplementedError()\n",
    "\n",
    "# Applying the filter\n",
    "d = 0.2 * np.pi\n",
    "order = 1\n",
    "image_butterworth_filtered = butterworthLowPass(image, d, order)\n",
    "image_butterworth_filtered_ref = butterworthLowPassRef(image, d, order)\n",
    "\n",
    "# Showing the results\n",
    "_ = plt.figure(figsize=(18, 6))\n",
    "_ = plt.subplot(1, 3, 1), plt.imshow(image_butterworth_filtered, vmin=0, vmax=1), plt.axis('off'), plt.title('Your Butterworth Filtered Image')\n",
    "_ = plt.subplot(1, 3, 2), plt.imshow(image_butterworth_filtered_ref, vmin=0, vmax=1), plt.axis('off'), plt.title('Reference Butterworth Filtered Image')\n",
    "_ = plt.subplot(1, 3, 3), plt.imshow(image, vmin=0, vmax=1), plt.axis('off'), plt.title('Original Image')"
   ]
  },
  {
   "cell_type": "markdown",
   "id": "2f000896-e3af-4c2e-8d3b-c8a7e90667b0",
   "metadata": {},
   "source": [
    "## Section 5. Creating More Complex Filters"
   ]
  },
  {
   "cell_type": "markdown",
   "id": "034423f5-54f6-4389-8a0f-b7b0abbcc1d9",
   "metadata": {},
   "source": [
    "### Section 5.1. High-Pass Filters\n",
    "One simple trick that you can do with a low-pass filter, is subtracting it from $1$ to get a high-pass filter. Doing so is equivalent to filtering with a low-pass kernel, and then subtracting the output from the image, which leaves out only the high frequency features. Apply this technique to your Gaussian and Butterworth filters, and view the results of applying a high-pass filter on the image."
   ]
  },
  {
   "cell_type": "code",
   "execution_count": null,
   "id": "4b20c384-ed1d-400e-a381-6b24e825d27f",
   "metadata": {},
   "outputs": [],
   "source": [
    "def gaussianHighPass(image : np.ndarray, sigma : float) -> np.ndarray:\n",
    "    \"\"\"\n",
    "    Parameters:\n",
    "    - image : np.ndarray\n",
    "        An image on which the filtering will be applied. It should be a np.ndarray\n",
    "        with dtype=float64.\n",
    "    - sigma : float\n",
    "        The sigma value for the Gaussian function. Should be a positive number.\n",
    "    Returns:\n",
    "    - output : np.ndarray\n",
    "        The filtered image, with dtype=np.float64.\n",
    "    \"\"\"\n",
    "    # ====== YOUR CODE ======\n",
    "    raise NotImplementedError()\n",
    "\n",
    "def butterworthHighPass(image : np.ndarray, d : float, order : float) -> np.ndarray:\n",
    "    \"\"\"\n",
    "    Parameters:\n",
    "    - image : np.ndarray\n",
    "        An image on which the filtering will be applied. It should be a np.ndarray\n",
    "        with dtype=float64.\n",
    "    - d : float\n",
    "        The d value for the Butterworth filter. Should be a positive number.\n",
    "    - order : float\n",
    "        The order of the Butterworth filter. Should be a positive number.\n",
    "    Returns:\n",
    "    - output : np.ndarray\n",
    "        The filtered image, with dtype=np.float64.\n",
    "    \"\"\"\n",
    "    # ====== YOUR CODE ======\n",
    "    raise NotImplementedError()\n",
    "\n",
    "# Applying the filters\n",
    "sigma = 0.2 * np.pi\n",
    "d = 0.2 * np.pi\n",
    "order = 1\n",
    "image_highpass_butterworth_filtered = butterworthHighPass(image, d, order)\n",
    "image_highpass_butterworth_filtered_ref = butterworthHighPassRef(image, d, order)\n",
    "image_highpass_gaussian_filtered = gaussianHighPass(image, sigma)\n",
    "image_highpass_gaussian_filtered_ref = gaussianHighPassRef(image, sigma)\n",
    "\n",
    "# Showing the results\n",
    "_ = plt.figure(figsize=(15, 15))\n",
    "_ = plt.subplot(2, 2, 1), plt.imshow(np.abs(image_highpass_butterworth_filtered)), plt.axis('off'), plt.title('Your High-Pass Butterworth Filtered Image')\n",
    "_ = plt.subplot(2, 2, 2), plt.imshow(np.abs(image_highpass_butterworth_filtered_ref)), plt.axis('off'), plt.title('Reference High-Pass Butterworth Filtered Image')\n",
    "_ = plt.subplot(2, 2, 3), plt.imshow(np.abs(image_highpass_gaussian_filtered)), plt.axis('off'), plt.title('Your High-Pass Gaussian Filtered Image')\n",
    "_ = plt.subplot(2, 2, 4), plt.imshow(np.abs(image_highpass_gaussian_filtered_ref)), plt.axis('off'), plt.title('Reference High-Pass Gaussian Filtered Image')"
   ]
  },
  {
   "cell_type": "markdown",
   "id": "b5174ddb-6fc0-4e31-ae4a-220fd99651ae",
   "metadata": {},
   "source": [
    "### Section 5.2. Band-Pass and Band-Reject Filters\n",
    "In some cases, we need to only pass or block a certain frequency in the image. In these cases, band-reject or band-pass filters are used. We will start with creating a band reject filter, and then use it to create a band-pass filter.\n",
    "\n",
    "A naive way of implementing a band-reject filter, would be by using a hlow-pass and high-pass filter together. Say that we want to reject the frequencies in $(f_0-W/2 \\;\\;\\; f_0+W/2)$, we can define our band-reject filter as the following.\n",
    "\n",
    "$\n",
    "BRF_{f_0,W} = LPF_{f_0-W/2} + HPF_{f_0+W/2}\n",
    "$\n",
    "\n",
    "There are several issues with such a filter. While it would work perfectly with the ideal low-pass and high-pass filter, we don't want to use such filters for reasons mentioned above. The graph of a Gaussian band-reject filter's cross-section is shown below."
   ]
  },
  {
   "cell_type": "code",
   "execution_count": null,
   "id": "f3a800c3-94f1-4c10-8920-0a798e91ceeb",
   "metadata": {},
   "outputs": [],
   "source": [
    "f = 0.5 * np.pi\n",
    "W = 0.2 * np.pi\n",
    "drawGaussianCrossSection(f, W, resolution=40)"
   ]
  },
  {
   "cell_type": "markdown",
   "id": "4b537bfc-ca66-47d5-aa6c-b369bf5a7b87",
   "metadata": {},
   "source": [
    "As you can see, this makes for a very inadequate band-reject filter. Firstly, the minimum is not positioned on $f$, secondly, the rejected frequencies are not sufficiently weakened, and lastly, the cut-off frequencies of $f\\pm W$ are very asymmetric. We can improve this filter by using another equation for the exponent of the Gaussian function.\n",
    "\n",
    "$\n",
    "g_{f,W}(z) = \\Large(\\frac{z^2 - f^2}{z W})\\large^2\n",
    "$\n",
    "\n",
    "As you can see, such a function would be equal to 0 for $z^2 = f^2$, would symmetrically increase with a $z$ higher or lower than $f$, and will go towards infinity for large or small $z$s. We can use this function to build a Gaussian or a Butterworth band-reject filter.\n",
    "\n",
    "$\n",
    "GBRF_{f,W}(u,v) = 1 - \\exp (-g_{f,W}(\\sqrt{u^2+v^2}))\n",
    "$\n",
    "\n",
    "\n",
    "$\n",
    "BBRF_{f,W,n}(u,v) = 1 - \\Large \\frac{1}{1 + g_{f,W}^n(\\sqrt{u^2+v^2})}\n",
    "$\n",
    "\n",
    "Implement these filters, and see their results."
   ]
  },
  {
   "cell_type": "code",
   "execution_count": null,
   "id": "9c63022c-a777-4e28-a46b-b739603b37bd",
   "metadata": {},
   "outputs": [],
   "source": [
    "def gaussianBandReject(image : np.ndarray, f : float, W : float) -> np.ndarray:\n",
    "    \"\"\"\n",
    "    Parameters:\n",
    "    - image : np.ndarray\n",
    "        An image on which the filtering will be applied. It should be a np.ndarray\n",
    "        with dtype=float64.\n",
    "    - f : float\n",
    "        The reject frequency for the filter. Should be a positive number.\n",
    "    - W : float\n",
    "        The width of the rejected band. Should be a positive number and lower than\n",
    "        2f.\n",
    "    Returns:\n",
    "    - output : np.ndarray\n",
    "        The filtered image, with dtype=np.float64.\n",
    "    \"\"\"\n",
    "    # ====== YOUR CODE ======\n",
    "    raise NotImplementedError()\n",
    "\n",
    "def butterworthBandReject(image : np.ndarray, f : float, W : float, order : float) -> np.ndarray:\n",
    "    \"\"\"\n",
    "    Parameters:\n",
    "    - image : np.ndarray\n",
    "        An image on which the filtering will be applied. It should be a np.ndarray\n",
    "        with dtype=float64.\n",
    "    - f : float\n",
    "        The reject frequency for the filter. Should be a positive number.\n",
    "    - W : float\n",
    "        The width of the rejected band. Should be a positive number and lower than\n",
    "        2f.\n",
    "    - order : float\n",
    "        The order of the Butterworth filter. should be a positive number.\n",
    "    Returns:\n",
    "    - output : np.ndarray\n",
    "        The filtered image, with dtype=np.float64.\n",
    "    \"\"\"\n",
    "    # ====== YOUR CODE ======\n",
    "    raise NotImplementedError()\n",
    "\n",
    "# Applying the filters\n",
    "f = 0.5 * np.pi\n",
    "W = 0.5 * np.pi\n",
    "order = 2\n",
    "image_bandreject_gaussian_filtered = gaussianBandReject(image, f, W)\n",
    "image_bandreject_gaussian_filtered_ref = gaussianBandRejectRef(image, f, W)\n",
    "image_bandreject_butterworth_filtered = butterworthBandReject(image, f, W, order)\n",
    "image_bandreject_butterworth_filtered_ref = butterworthBandRejectRef(image, f, W, order)\n",
    "\n",
    "# Showing the results\n",
    "_ = plt.figure(figsize=(15, 15))\n",
    "_ = plt.subplot(2, 2, 1), plt.imshow(np.abs(image_bandreject_gaussian_filtered)), plt.axis('off'), plt.title('Your Gaussian Band-Reject Filtered Image')\n",
    "_ = plt.subplot(2, 2, 2), plt.imshow(np.abs(image_bandreject_gaussian_filtered_ref)), plt.axis('off'), plt.title('Reference Gaussian Band-Reject Filtered Image')\n",
    "_ = plt.subplot(2, 2, 3), plt.imshow(np.abs(image_bandreject_butterworth_filtered)), plt.axis('off'), plt.title('Your Butterworth Band-Reject Filtered Image')\n",
    "_ = plt.subplot(2, 2, 4), plt.imshow(np.abs(image_bandreject_butterworth_filtered_ref)), plt.axis('off'), plt.title('Reference Butterworth Band-Reject Filtered Image')"
   ]
  },
  {
   "cell_type": "markdown",
   "id": "652145a0-bc30-4947-b373-c486de178b77",
   "metadata": {},
   "source": [
    "Similar to how you created high-pass filters from low-pass ones, you can now use your filters to create band-pass filters, which only allow the frequencies in a certain band to pass."
   ]
  },
  {
   "cell_type": "code",
   "execution_count": null,
   "id": "7a9a1e5b-adc2-4e3b-a8c8-9d6bfc8b2cf9",
   "metadata": {},
   "outputs": [],
   "source": [
    "def gaussianBandPass(image : np.ndarray, f : float, W : float) -> np.ndarray:\n",
    "    \"\"\"\n",
    "    Parameters:\n",
    "    - image : np.ndarray\n",
    "        An image on which the filtering will be applied. It should be a np.ndarray\n",
    "        with dtype=float64.\n",
    "    - f : float\n",
    "        The reject frequency for the filter. Should be a positive number.\n",
    "    - W : float\n",
    "        The width of the rejected band. Should be a positive number and lower than\n",
    "        2f.\n",
    "    Returns:\n",
    "    - output : np.ndarray\n",
    "        The filtered image, with dtype=np.float64.\n",
    "    \"\"\"\n",
    "    # ====== YOUR CODE ======\n",
    "    raise NotImplementedError()\n",
    "\n",
    "def butterworthBandPass(image : np.ndarray, f : float, W : float, order : float) -> np.ndarray:\n",
    "    \"\"\"\n",
    "    Parameters:\n",
    "    - image : np.ndarray\n",
    "        An image on which the filtering will be applied. It should be a np.ndarray\n",
    "        with dtype=float64.\n",
    "    - f : float\n",
    "        The reject frequency for the filter. Should be a positive number.\n",
    "    - W : float\n",
    "        The width of the rejected band. Should be a positive number and lower than\n",
    "        2f.\n",
    "    - order : float\n",
    "        The order of the Butterworth filter. should be a positive number.\n",
    "    Returns:\n",
    "    - output : np.ndarray\n",
    "        The filtered image, with dtype=np.float64.\n",
    "    \"\"\"\n",
    "    # ====== YOUR CODE ======\n",
    "    raise NotImplementedError()\n",
    "\n",
    "# Applying the filters\n",
    "f = 0.75 * np.pi\n",
    "W = 1 * np.pi\n",
    "order = 2\n",
    "image_bandpass_gaussian_filtered = gaussianBandPass(image, f, W)\n",
    "image_bandpass_gaussian_filtered_ref = gaussianBandPassRef(image, f, W)\n",
    "image_bandpass_butterworth_filtered = butterworthBandPass(image, f, W, order)\n",
    "image_bandpass_butterworth_filtered_ref = butterworthBandPassRef(image, f, W, order)\n",
    "\n",
    "# Showing the results\n",
    "_ = plt.figure(figsize=(15, 15))\n",
    "_ = plt.subplot(2, 2, 1), plt.imshow(np.abs(image_bandpass_gaussian_filtered)), plt.axis('off'), plt.title('Your Gaussian Band-Pass Filtered Image')\n",
    "_ = plt.subplot(2, 2, 2), plt.imshow(np.abs(image_bandpass_gaussian_filtered_ref)), plt.axis('off'), plt.title('Reference Gaussian Band-Pass Filtered Image')\n",
    "_ = plt.subplot(2, 2, 3), plt.imshow(np.abs(image_bandpass_butterworth_filtered)), plt.axis('off'), plt.title('Your Butterworth Band-Pass Filtered Image')\n",
    "_ = plt.subplot(2, 2, 4), plt.imshow(np.abs(image_bandpass_butterworth_filtered_ref)), plt.axis('off'), plt.title('Reference Butterworth Band-Pass Filtered Image')"
   ]
  },
  {
   "cell_type": "markdown",
   "id": "14b23526-0c91-4189-a91f-2bb51f8418ba",
   "metadata": {},
   "source": [
    "**Note:** There are some methods of filtering in the frequency domain which are mainly aimed at removing noise patterns. You can read about these methods and try them in the \"Noise Removal\" notebook."
   ]
  },
  {
   "cell_type": "markdown",
   "id": "a1bff918-b264-4cba-a6da-40977c19a4fe",
   "metadata": {},
   "source": [
    "# Scratchpad\n",
    "You can use this section to try out different codes, without making a mess of the notebook. :)"
   ]
  },
  {
   "cell_type": "code",
   "execution_count": null,
   "id": "578cf366-2606-478a-900e-b83b772fc164",
   "metadata": {},
   "outputs": [],
   "source": []
  }
 ],
 "metadata": {
  "kernelspec": {
   "display_name": "Python 3 (ipykernel)",
   "language": "python",
   "name": "python3"
  },
  "language_info": {
   "codemirror_mode": {
    "name": "ipython",
    "version": 3
   },
   "file_extension": ".py",
   "mimetype": "text/x-python",
   "name": "python",
   "nbconvert_exporter": "python",
   "pygments_lexer": "ipython3",
   "version": "3.11.3"
  }
 },
 "nbformat": 4,
 "nbformat_minor": 5
}
